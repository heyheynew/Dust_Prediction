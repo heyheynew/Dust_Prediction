{
 "cells": [
  {
   "cell_type": "code",
   "execution_count": 13,
   "id": "0c86d4a3",
   "metadata": {},
   "outputs": [],
   "source": [
    "#라이브러리 임포트\n",
    "import pandas as pd\n",
    "from sklearn.preprocessing import MinMaxScaler\n",
    "from sklearn.model_selection import train_test_split\n",
    "import tensorflow as tf\n",
    "from tensorflow import keras\n",
    "tf.random.set_seed(777) #하이퍼파라미터 튜닝을 위해 실행시 마다 변수가 같은 초기값 가지게 하기\n",
    "from tensorflow.keras.utils import plot_model\n",
    "import numpy as np\n",
    "import matplotlib.pyplot as plt\n",
    "import platform\n",
    "if platform.system() == 'Darwin': #맥\n",
    "        plt.rc('font', family='AppleGothic') \n",
    "elif platform.system() == 'Windows': #윈도우\n",
    "        plt.rc('font', family='Malgun Gothic') \n",
    "elif platform.system() == 'Linux': #리눅스 (코랩)\n",
    "        plt.rc('font', family='Malgun Gothic') \n",
    "plt.rcParams['axes.unicode_minus'] = False #한글 폰트 사용시 마이너스 폰트 깨짐 해결\n",
    "%matplotlib inline"
   ]
  },
  {
   "cell_type": "code",
   "execution_count": 14,
   "id": "ef93424c",
   "metadata": {},
   "outputs": [],
   "source": [
    "def load_time_series_data(data, sequence_length):\n",
    "    window_length = sequence_length + 1\n",
    "    x_data = []\n",
    "    y_data = []\n",
    "    for i in range(0, len(data) - window_length + 1): \n",
    "        window = data[i:i + window_length, :]\n",
    "        x_data.append(window[:-1, :])\n",
    "        y_data.append(window[-1, [-1]])\n",
    "    x_data = np.array(x_data)\n",
    "    y_data = np.array(y_data)\n",
    "\n",
    "    return x_data, y_data"
   ]
  },
  {
   "cell_type": "code",
   "execution_count": 15,
   "id": "948685c0",
   "metadata": {},
   "outputs": [],
   "source": [
    "# 데이터 로드\n",
    "df = pd.read_excel('./미세먼지데이터.xlsx')"
   ]
  },
  {
   "cell_type": "code",
   "execution_count": 17,
   "id": "0d37bd73",
   "metadata": {
    "scrolled": true
   },
   "outputs": [
    {
     "name": "stdout",
     "output_type": "stream",
     "text": [
      "<class 'pandas.core.frame.DataFrame'>\n",
      "RangeIndex: 79773 entries, 0 to 79772\n",
      "Data columns (total 8 columns):\n",
      " #   Column        Non-Null Count  Dtype  \n",
      "---  ------        --------------  -----  \n",
      " 0   측정일시          79773 non-null  int64  \n",
      " 1   측정소명          79773 non-null  object \n",
      " 2   이산화질소농도(ppm)  78572 non-null  float64\n",
      " 3   오존농도(ppm)     78670 non-null  float64\n",
      " 4   일산화탄소농도(ppm)  78503 non-null  float64\n",
      " 5   아황산가스(ppm)    78586 non-null  float64\n",
      " 6   미세먼지(㎍/㎥)     78122 non-null  float64\n",
      " 7   초미세먼지(㎍/㎥)    77596 non-null  float64\n",
      "dtypes: float64(6), int64(1), object(1)\n",
      "memory usage: 4.9+ MB\n",
      "None\n"
     ]
    }
   ],
   "source": [
    "print(df.info())"
   ]
  },
  {
   "cell_type": "code",
   "execution_count": 18,
   "id": "79eb3727",
   "metadata": {},
   "outputs": [
    {
     "data": {
      "text/plain": [
       "측정일시               0\n",
       "측정소명               0\n",
       "이산화질소농도(ppm)    1201\n",
       "오존농도(ppm)       1103\n",
       "일산화탄소농도(ppm)    1270\n",
       "아황산가스(ppm)      1187\n",
       "미세먼지(㎍/㎥)       1651\n",
       "초미세먼지(㎍/㎥)      2177\n",
       "dtype: int64"
      ]
     },
     "execution_count": 18,
     "metadata": {},
     "output_type": "execute_result"
    }
   ],
   "source": [
    "df.isnull().sum()"
   ]
  },
  {
   "cell_type": "code",
   "execution_count": 19,
   "id": "d034fcf1",
   "metadata": {},
   "outputs": [],
   "source": [
    "df['이산화질소농도(ppm)'] = df['이산화질소농도(ppm)'].fillna(df['이산화질소농도(ppm)'].mean()).astype(float)\n",
    "df['오존농도(ppm)'] = df['오존농도(ppm)'].fillna(df['오존농도(ppm)'].mean()).astype(float)\n",
    "df['일산화탄소농도(ppm)'] = df['일산화탄소농도(ppm)'].fillna(df['일산화탄소농도(ppm)'].mean()).astype(float)\n",
    "df['아황산가스(ppm)'] = df['아황산가스(ppm)'].fillna(df['아황산가스(ppm)'].mean()).astype(float)\n",
    "df['미세먼지(㎍/㎥)'] = df['미세먼지(㎍/㎥)'].fillna(df['미세먼지(㎍/㎥)'].mean()).astype(float)\n",
    "df['초미세먼지(㎍/㎥)'] = df['초미세먼지(㎍/㎥)'].fillna(df['초미세먼지(㎍/㎥)'].mean()).astype(float)"
   ]
  },
  {
   "cell_type": "code",
   "execution_count": 20,
   "id": "3bbd90ef",
   "metadata": {},
   "outputs": [
    {
     "data": {
      "text/plain": [
       "측정일시            0\n",
       "측정소명            0\n",
       "이산화질소농도(ppm)    0\n",
       "오존농도(ppm)       0\n",
       "일산화탄소농도(ppm)    0\n",
       "아황산가스(ppm)      0\n",
       "미세먼지(㎍/㎥)       0\n",
       "초미세먼지(㎍/㎥)      0\n",
       "dtype: int64"
      ]
     },
     "execution_count": 20,
     "metadata": {},
     "output_type": "execute_result"
    }
   ],
   "source": [
    "df.isnull().sum()"
   ]
  },
  {
   "cell_type": "code",
   "execution_count": 7,
   "id": "bbcb5bc8",
   "metadata": {},
   "outputs": [
    {
     "name": "stdout",
     "output_type": "stream",
     "text": [
      "<class 'pandas.core.frame.DataFrame'>\n",
      "RangeIndex: 79773 entries, 0 to 79772\n",
      "Data columns (total 8 columns):\n",
      " #   Column        Non-Null Count  Dtype  \n",
      "---  ------        --------------  -----  \n",
      " 0   측정일시          79773 non-null  int64  \n",
      " 1   측정소명          79773 non-null  object \n",
      " 2   이산화질소농도(ppm)  79773 non-null  float64\n",
      " 3   오존농도(ppm)     79773 non-null  float64\n",
      " 4   일산화탄소농도(ppm)  79773 non-null  float64\n",
      " 5   아황산가스(ppm)    79773 non-null  float64\n",
      " 6   미세먼지(㎍/㎥)     79773 non-null  float64\n",
      " 7   초미세먼지(㎍/㎥)    79773 non-null  float64\n",
      "dtypes: float64(6), int64(1), object(1)\n",
      "memory usage: 4.9+ MB\n",
      "None\n"
     ]
    }
   ],
   "source": [
    "print(df.info())"
   ]
  },
  {
   "cell_type": "code",
   "execution_count": 8,
   "id": "1d0692e1",
   "metadata": {},
   "outputs": [
    {
     "name": "stdout",
     "output_type": "stream",
     "text": [
      "               측정일시  이산화질소농도(ppm)     오존농도(ppm)  일산화탄소농도(ppm)    아황산가스(ppm)  \\\n",
      "count  7.977300e+04  79773.000000  79773.000000  79773.000000  79773.000000   \n",
      "mean   2.019230e+07      0.029628      0.023571      0.532564      0.003872   \n",
      "std    1.402234e+04      0.027295      0.013025      0.224586      0.001517   \n",
      "min    2.017010e+07      0.000000      0.000000      0.100000      0.001000   \n",
      "25%    2.018072e+07      0.018000      0.014000      0.400000      0.003000   \n",
      "50%    2.019101e+07      0.028000      0.022000      0.500000      0.004000   \n",
      "75%    2.020112e+07      0.039000      0.032000      0.600000      0.005000   \n",
      "max    2.022011e+07      6.523000      0.247000      8.000000      0.148000   \n",
      "\n",
      "          미세먼지(㎍/㎥)    초미세먼지(㎍/㎥)  \n",
      "count  79773.000000  79773.000000  \n",
      "mean      40.806341     22.522759  \n",
      "std       27.353958     15.292534  \n",
      "min        3.000000      1.000000  \n",
      "25%       24.000000     12.000000  \n",
      "50%       36.000000     19.000000  \n",
      "75%       51.000000     28.000000  \n",
      "max      542.000000    161.000000  \n"
     ]
    }
   ],
   "source": [
    "print(df.describe())"
   ]
  },
  {
   "cell_type": "code",
   "execution_count": 9,
   "id": "44f61284",
   "metadata": {},
   "outputs": [],
   "source": [
    "# 마포구 필터링\n",
    "\n",
    "df = df[df['측정소명'] == '마포구']\n",
    "df = df.sort_values(by='측정일시')"
   ]
  },
  {
   "cell_type": "code",
   "execution_count": 10,
   "id": "f79e4c7b",
   "metadata": {},
   "outputs": [
    {
     "data": {
      "image/png": "[encoded data removed]",
      "text/plain": [
       "<Figure size 432x288 with 6 Axes>"
      ]
     },
     "metadata": {
      "needs_background": "light"
     },
     "output_type": "display_data"
    }
   ],
   "source": [
    "features_considered = ['이산화질소농도(ppm)', '오존농도(ppm)', '일산화탄소농도(ppm)', '아황산가스(ppm)', '미세먼지(㎍/㎥)', '초미세먼지(㎍/㎥)']\n",
    "features = df[features_considered]\n",
    "features.index = df['측정일시']\n",
    "features.plot(subplots=True)\n",
    "plt.show()"
   ]
  },
  {
   "cell_type": "markdown",
   "id": "d8188f2b",
   "metadata": {},
   "source": [
    "# 미세먼지 예측"
   ]
  },
  {
   "cell_type": "code",
   "execution_count": 11,
   "id": "3bc7c41f",
   "metadata": {
    "scrolled": false
   },
   "outputs": [
    {
     "name": "stdout",
     "output_type": "stream",
     "text": [
      "(1768, 1)\n"
     ]
    }
   ],
   "source": [
    "# 미세먼지 데이터 넘파이로 변경\n",
    "data = df[['미세먼지(㎍/㎥)']].to_numpy()\n",
    "print(data.shape)"
   ]
  },
  {
   "cell_type": "code",
   "execution_count": 12,
   "id": "6f89fc68",
   "metadata": {
    "scrolled": false
   },
   "outputs": [
    {
     "name": "stdout",
     "output_type": "stream",
     "text": [
      "(1765, 3)\n",
      "(1765, 1)\n"
     ]
    }
   ],
   "source": [
    "# 데이터 전처리\n",
    "\n",
    "transformer = MinMaxScaler()\n",
    "data = transformer.fit_transform(data)\n",
    "\n",
    "sequence_length = 3\n",
    "x_data, y_data = load_time_series_data(data, sequence_length)\n",
    "x_data = x_data.reshape(len(x_data), -1)\n",
    "print(x_data.shape) \n",
    "print(y_data.shape)"
   ]
  },
  {
   "cell_type": "code",
   "execution_count": 13,
   "id": "a7586e8d",
   "metadata": {
    "scrolled": false
   },
   "outputs": [
    {
     "name": "stdout",
     "output_type": "stream",
     "text": [
      "(1235, 3)\n",
      "(1235, 1)\n",
      "(530, 3)\n",
      "(530, 1)\n"
     ]
    }
   ],
   "source": [
    "# 학습 데이터, 훈련 데이터 분할\n",
    "x_train, x_test, y_train, y_test = train_test_split(x_data, y_data, test_size=0.3, shuffle=False) #시각화를 위해 shuffle=False 옵션 사용\n",
    "print(x_train.shape)\n",
    "print(y_train.shape) \n",
    "print(x_test.shape)\n",
    "print(y_test.shape) "
   ]
  },
  {
   "cell_type": "code",
   "execution_count": 14,
   "id": "084a8754",
   "metadata": {},
   "outputs": [],
   "source": [
    "# 모델 생성\n",
    "input = tf.keras.layers.Input(shape=(3,1))\n",
    "net = tf.keras.layers.LSTM(units=128, activation='relu')(input)\n",
    "net = tf.keras.layers.Dense(units=128, activation='relu')(net)\n",
    "net = tf.keras.layers.Dense(units=32, activation='relu')(net)\n",
    "net = tf.keras.layers.Dense(units=1)(net)\n",
    "model = tf.keras.models.Model(input, net)"
   ]
  },
  {
   "cell_type": "code",
   "execution_count": null,
   "id": "d30d153f",
   "metadata": {},
   "outputs": [],
   "source": [
    "# 모델 생성\n",
    "input = tf.keras.layers.Input(shape=(sequence_length,))\n",
    "net = tf.keras.layers.LSTM(units=128, activation='relu')(input)\n",
    "net = tf.keras.layers.Dense(units=128, activation='relu')(net)\n",
    "net = tf.keras.layers.Dense(units=32, activation='relu')(net)\n",
    "net = tf.keras.layers.Dense(units=1)(net)\n",
    "model = tf.keras.models.Model(input, net)"
   ]
  },
  {
   "cell_type": "code",
   "execution_count": 15,
   "id": "99523164",
   "metadata": {},
   "outputs": [],
   "source": [
    "# 모델 컴파일\n",
    "model.compile(loss='mse', optimizer='adam')"
   ]
  },
  {
   "cell_type": "code",
   "execution_count": 16,
   "id": "5edce787",
   "metadata": {},
   "outputs": [
    {
     "name": "stdout",
     "output_type": "stream",
     "text": [
      "\n",
      "============ TRAINING START ============\n",
      "Epoch 1/50\n",
      "39/39 [==============================] - 2s 10ms/step - loss: 0.0040 - val_loss: 0.0046\n",
      "Epoch 2/50\n",
      "39/39 [==============================] - 0s 3ms/step - loss: 0.0024 - val_loss: 0.0046\n",
      "Epoch 3/50\n",
      "39/39 [==============================] - 0s 3ms/step - loss: 0.0022 - val_loss: 0.0044\n",
      "Epoch 4/50\n",
      "39/39 [==============================] - 0s 3ms/step - loss: 0.0022 - val_loss: 0.0042\n",
      "Epoch 5/50\n",
      "39/39 [==============================] - 0s 3ms/step - loss: 0.0020 - val_loss: 0.0041\n",
      "Epoch 6/50\n",
      "39/39 [==============================] - 0s 3ms/step - loss: 0.0020 - val_loss: 0.0041\n",
      "Epoch 7/50\n",
      "39/39 [==============================] - 0s 3ms/step - loss: 0.0020 - val_loss: 0.0048\n",
      "Epoch 8/50\n",
      "39/39 [==============================] - 0s 3ms/step - loss: 0.0021 - val_loss: 0.0038\n",
      "Epoch 9/50\n",
      "39/39 [==============================] - 0s 3ms/step - loss: 0.0019 - val_loss: 0.0037\n",
      "Epoch 10/50\n",
      "39/39 [==============================] - 0s 3ms/step - loss: 0.0019 - val_loss: 0.0037\n",
      "Epoch 11/50\n",
      "39/39 [==============================] - 0s 3ms/step - loss: 0.0019 - val_loss: 0.0038\n",
      "Epoch 12/50\n",
      "39/39 [==============================] - 0s 3ms/step - loss: 0.0020 - val_loss: 0.0037\n",
      "Epoch 13/50\n",
      "39/39 [==============================] - 0s 3ms/step - loss: 0.0020 - val_loss: 0.0040\n",
      "Epoch 14/50\n",
      "39/39 [==============================] - 0s 3ms/step - loss: 0.0018 - val_loss: 0.0039\n",
      "Epoch 15/50\n",
      "39/39 [==============================] - 0s 3ms/step - loss: 0.0018 - val_loss: 0.0037\n",
      "Epoch 16/50\n",
      "39/39 [==============================] - 0s 3ms/step - loss: 0.0018 - val_loss: 0.0036\n",
      "Epoch 17/50\n",
      "39/39 [==============================] - 0s 3ms/step - loss: 0.0018 - val_loss: 0.0036\n",
      "Epoch 18/50\n",
      "39/39 [==============================] - 0s 3ms/step - loss: 0.0019 - val_loss: 0.0036\n",
      "Epoch 19/50\n",
      "39/39 [==============================] - 0s 3ms/step - loss: 0.0019 - val_loss: 0.0037\n",
      "Epoch 20/50\n",
      "39/39 [==============================] - 0s 3ms/step - loss: 0.0019 - val_loss: 0.0036\n",
      "Epoch 21/50\n",
      "39/39 [==============================] - 0s 3ms/step - loss: 0.0018 - val_loss: 0.0036\n",
      "Epoch 22/50\n",
      "39/39 [==============================] - 0s 3ms/step - loss: 0.0019 - val_loss: 0.0036\n",
      "Epoch 23/50\n",
      "39/39 [==============================] - 0s 4ms/step - loss: 0.0019 - val_loss: 0.0036\n",
      "Epoch 24/50\n",
      "39/39 [==============================] - 0s 3ms/step - loss: 0.0019 - val_loss: 0.0039\n",
      "Epoch 25/50\n",
      "39/39 [==============================] - 0s 3ms/step - loss: 0.0019 - val_loss: 0.0036\n",
      "Epoch 26/50\n",
      "39/39 [==============================] - 0s 3ms/step - loss: 0.0018 - val_loss: 0.0036\n",
      "Epoch 27/50\n",
      "39/39 [==============================] - 0s 3ms/step - loss: 0.0019 - val_loss: 0.0036\n",
      "Epoch 28/50\n",
      "39/39 [==============================] - 0s 3ms/step - loss: 0.0018 - val_loss: 0.0036\n",
      "Epoch 29/50\n",
      "39/39 [==============================] - 0s 3ms/step - loss: 0.0019 - val_loss: 0.0040\n",
      "Epoch 30/50\n",
      "39/39 [==============================] - 0s 3ms/step - loss: 0.0019 - val_loss: 0.0036\n",
      "Epoch 31/50\n",
      "39/39 [==============================] - 0s 3ms/step - loss: 0.0018 - val_loss: 0.0036\n",
      "Epoch 32/50\n",
      "39/39 [==============================] - 0s 3ms/step - loss: 0.0019 - val_loss: 0.0039\n",
      "Epoch 33/50\n",
      "39/39 [==============================] - 0s 3ms/step - loss: 0.0018 - val_loss: 0.0036\n",
      "Epoch 34/50\n",
      "39/39 [==============================] - 0s 3ms/step - loss: 0.0018 - val_loss: 0.0036\n",
      "Epoch 35/50\n",
      "39/39 [==============================] - 0s 3ms/step - loss: 0.0018 - val_loss: 0.0038\n",
      "Epoch 36/50\n",
      "39/39 [==============================] - 0s 3ms/step - loss: 0.0018 - val_loss: 0.0037\n",
      "Epoch 37/50\n",
      "39/39 [==============================] - 0s 3ms/step - loss: 0.0018 - val_loss: 0.0037\n",
      "Epoch 38/50\n",
      "39/39 [==============================] - 0s 3ms/step - loss: 0.0018 - val_loss: 0.0036\n",
      "Epoch 39/50\n",
      "39/39 [==============================] - 0s 3ms/step - loss: 0.0018 - val_loss: 0.0037\n",
      "Epoch 40/50\n",
      "39/39 [==============================] - 0s 3ms/step - loss: 0.0018 - val_loss: 0.0037\n",
      "Epoch 41/50\n",
      "39/39 [==============================] - 0s 3ms/step - loss: 0.0019 - val_loss: 0.0037\n",
      "Epoch 42/50\n",
      "39/39 [==============================] - 0s 3ms/step - loss: 0.0018 - val_loss: 0.0038\n",
      "Epoch 43/50\n",
      "39/39 [==============================] - 0s 3ms/step - loss: 0.0018 - val_loss: 0.0038\n"
     ]
    }
   ],
   "source": [
    "# 모델 학습\n",
    "print(\"\\n============ TRAINING START ============\")\n",
    "early_stop = keras.callbacks.EarlyStopping(monitor='val_loss', patience=10)\n",
    "hist = model.fit(x_train, y_train, epochs=50, validation_data=(x_test, y_test), callbacks=[early_stop]) "
   ]
  },
  {
   "cell_type": "code",
   "execution_count": 17,
   "id": "e10c0ca8",
   "metadata": {},
   "outputs": [
    {
     "name": "stdout",
     "output_type": "stream",
     "text": [
      "Model: \"model\"\n",
      "_________________________________________________________________\n",
      " Layer (type)                Output Shape              Param #   \n",
      "=================================================================\n",
      " input_1 (InputLayer)        [(None, 3, 1)]            0         \n",
      "                                                                 \n",
      " lstm (LSTM)                 (None, 128)               66560     \n",
      "                                                                 \n",
      " dense (Dense)               (None, 128)               16512     \n",
      "                                                                 \n",
      " dense_1 (Dense)             (None, 32)                4128      \n",
      "                                                                 \n",
      " dense_2 (Dense)             (None, 1)                 33        \n",
      "                                                                 \n",
      "=================================================================\n",
      "Total params: 87,233\n",
      "Trainable params: 87,233\n",
      "Non-trainable params: 0\n",
      "_________________________________________________________________\n"
     ]
    }
   ],
   "source": [
    "model.summary()"
   ]
  },
  {
   "cell_type": "code",
   "execution_count": 18,
   "id": "31f62e7b",
   "metadata": {},
   "outputs": [
    {
     "data": {
      "image/png": "[encoded data removed]",
      "text/plain": [
       "<IPython.core.display.Image object>"
      ]
     },
     "execution_count": 18,
     "metadata": {},
     "output_type": "execute_result"
    }
   ],
   "source": [
    "plot_model(model, show_shapes=True)"
   ]
  },
  {
   "cell_type": "code",
   "execution_count": 19,
   "id": "006db5c2",
   "metadata": {},
   "outputs": [
    {
     "data": {
      "image/png": "[encoded data removed]",
      "text/plain": [
       "<Figure size 432x288 with 1 Axes>"
      ]
     },
     "metadata": {
      "needs_background": "light"
     },
     "output_type": "display_data"
    },
    {
     "data": {
      "text/plain": [
       "<Figure size 432x288 with 0 Axes>"
      ]
     },
     "metadata": {},
     "output_type": "display_data"
    }
   ],
   "source": [
    "# 학습결과 시각화\n",
    "plt.plot(hist.history['loss'], label='loss')\n",
    "plt.plot(hist.history['val_loss'], label='val_loss')\n",
    "plt.xlabel(\"EPOCH\")\n",
    "plt.legend(loc='center right')\n",
    "plt.show()\n",
    "plt.savefig(\"train_history.png\")"
   ]
  },
  {
   "cell_type": "code",
   "execution_count": 20,
   "id": "96b62c75",
   "metadata": {
    "scrolled": true
   },
   "outputs": [
    {
     "data": {
      "image/png": "[encoded data removed]",
      "text/plain": [
       "<Figure size 432x288 with 1 Axes>"
      ]
     },
     "metadata": {
      "needs_background": "light"
     },
     "output_type": "display_data"
    },
    {
     "name": "stdout",
     "output_type": "stream",
     "text": [
      "32.073906\n"
     ]
    }
   ],
   "source": [
    "# 미세먼지 예측                           \n",
    "\n",
    "def plot(data, y_predict_train, y_predict_test):\n",
    "    plt.plot(transformer.inverse_transform(data)[:, [-1]].flatten(), label='실제 미세먼지')\n",
    "\n",
    "    y_predict_train = transformer.inverse_transform(y_predict_train)\n",
    "    y_predict_train_plot = np.empty_like(data[:, [0]])\n",
    "    y_predict_train_plot[:, :] = np.nan\n",
    "    y_predict_train_plot[sequence_length:len(y_predict_train) + sequence_length, :] = y_predict_train\n",
    "    plt.plot(y_predict_train_plot.flatten(), label='학습 데이터 예측')\n",
    "\n",
    "    y_predict_test = transformer.inverse_transform(y_predict_test)\n",
    "    y_predict_test_plot = np.empty_like(data[:, [0]])\n",
    "    y_predict_test_plot[:, :] = np.nan\n",
    "    y_predict_test_plot[len(y_predict_train) + sequence_length:, :] = y_predict_test\n",
    "    plt.plot(y_predict_test_plot.flatten(), label='테스트 데이터 예측')\n",
    "    \n",
    "    plt.legend()\n",
    "    plt.show()\n",
    "    \n",
    "y_predict_train = model.predict(x_train)\n",
    "y_predict_test = model.predict(x_test)\n",
    "plot(data, y_predict_train, y_predict_test)\n",
    "\n",
    "x_test = np.array([\n",
    "        [25, 24, 24]   #1 월 11, 12, 13일 미세먼지 농도\n",
    "])\n",
    "x_test = x_test.reshape(-1, 1)\n",
    "x_test = transformer.transform(x_test)\n",
    "x_test = x_test.reshape(1, sequence_length)\n",
    "\n",
    "y_predict = model.predict(x_test)\n",
    "\n",
    "y_predict = transformer.inverse_transform(y_predict)\n",
    "print(y_predict[0][0])   # 1월 14일 미세먼지 농도 예측값"
   ]
  },
  {
   "cell_type": "code",
   "execution_count": null,
   "id": "b9647d68",
   "metadata": {},
   "outputs": [],
   "source": []
  },
  {
   "cell_type": "markdown",
   "id": "488a75cc",
   "metadata": {},
   "source": [
    "# 초미세먼지 예측"
   ]
  },
  {
   "cell_type": "code",
   "execution_count": 21,
   "id": "40f918de",
   "metadata": {
    "scrolled": false
   },
   "outputs": [
    {
     "name": "stdout",
     "output_type": "stream",
     "text": [
      "(1768, 1)\n"
     ]
    }
   ],
   "source": [
    "# 미세먼지 데이터 넘파이로 변경\n",
    "data = df[['초미세먼지(㎍/㎥)']].to_numpy()\n",
    "print(data.shape)"
   ]
  },
  {
   "cell_type": "code",
   "execution_count": 22,
   "id": "0f8de305",
   "metadata": {
    "scrolled": false
   },
   "outputs": [
    {
     "name": "stdout",
     "output_type": "stream",
     "text": [
      "(1765, 3)\n",
      "(1765, 1)\n"
     ]
    }
   ],
   "source": [
    "# 데이터 전처리\n",
    "\n",
    "transformer = MinMaxScaler()\n",
    "data = transformer.fit_transform(data)\n",
    "\n",
    "sequence_length = 3\n",
    "x_data, y_data = load_time_series_data(data, sequence_length)\n",
    "x_data = x_data.reshape(len(x_data), -1)\n",
    "print(x_data.shape) \n",
    "print(y_data.shape)"
   ]
  },
  {
   "cell_type": "code",
   "execution_count": 23,
   "id": "1a941968",
   "metadata": {
    "scrolled": false
   },
   "outputs": [
    {
     "name": "stdout",
     "output_type": "stream",
     "text": [
      "(1235, 3)\n",
      "(1235, 1)\n",
      "(530, 3)\n",
      "(530, 1)\n"
     ]
    }
   ],
   "source": [
    "# 학습 데이터, 훈련 데이터 분할\n",
    "x_train, x_test, y_train, y_test = train_test_split(x_data, y_data, test_size=0.3, shuffle=False) #시각화를 위해 shuffle=False 옵션 사용\n",
    "print(x_train.shape)\n",
    "print(y_train.shape) \n",
    "print(x_test.shape)\n",
    "print(y_test.shape) "
   ]
  },
  {
   "cell_type": "code",
   "execution_count": 24,
   "id": "407c980a",
   "metadata": {},
   "outputs": [],
   "source": [
    "# 모델 생성\n",
    "input = tf.keras.layers.Input(shape=(3,1))\n",
    "net = tf.keras.layers.LSTM(units=128, activation='relu')(input)\n",
    "net = tf.keras.layers.Dense(units=128, activation='relu')(net)\n",
    "net = tf.keras.layers.Dense(units=32, activation='relu')(net)\n",
    "net = tf.keras.layers.Dense(units=1)(net)\n",
    "model = tf.keras.models.Model(input, net)"
   ]
  },
  {
   "cell_type": "code",
   "execution_count": 25,
   "id": "0a8e4e8b",
   "metadata": {},
   "outputs": [],
   "source": [
    "# 모델 컴파일\n",
    "model.compile(loss='mse', optimizer='adam')"
   ]
  },
  {
   "cell_type": "code",
   "execution_count": 26,
   "id": "db65b381",
   "metadata": {},
   "outputs": [
    {
     "name": "stdout",
     "output_type": "stream",
     "text": [
      "\n",
      "============ TRAINING START ============\n",
      "Epoch 1/50\n",
      "39/39 [==============================] - 2s 10ms/step - loss: 0.0153 - val_loss: 0.0099\n",
      "Epoch 2/50\n",
      "39/39 [==============================] - 0s 3ms/step - loss: 0.0098 - val_loss: 0.0086\n",
      "Epoch 3/50\n",
      "39/39 [==============================] - 0s 3ms/step - loss: 0.0090 - val_loss: 0.0089\n",
      "Epoch 4/50\n",
      "39/39 [==============================] - 0s 3ms/step - loss: 0.0083 - val_loss: 0.0075\n",
      "Epoch 5/50\n",
      "39/39 [==============================] - 0s 3ms/step - loss: 0.0078 - val_loss: 0.0073\n",
      "Epoch 6/50\n",
      "39/39 [==============================] - 0s 3ms/step - loss: 0.0076 - val_loss: 0.0070\n",
      "Epoch 7/50\n",
      "39/39 [==============================] - 0s 3ms/step - loss: 0.0074 - val_loss: 0.0102\n",
      "Epoch 8/50\n",
      "39/39 [==============================] - 0s 3ms/step - loss: 0.0077 - val_loss: 0.0063\n",
      "Epoch 9/50\n",
      "39/39 [==============================] - 0s 3ms/step - loss: 0.0071 - val_loss: 0.0062\n",
      "Epoch 10/50\n",
      "39/39 [==============================] - 0s 3ms/step - loss: 0.0069 - val_loss: 0.0067\n",
      "Epoch 11/50\n",
      "39/39 [==============================] - 0s 3ms/step - loss: 0.0070 - val_loss: 0.0060\n",
      "Epoch 12/50\n",
      "39/39 [==============================] - 0s 3ms/step - loss: 0.0070 - val_loss: 0.0062\n",
      "Epoch 13/50\n",
      "39/39 [==============================] - 0s 3ms/step - loss: 0.0070 - val_loss: 0.0066\n",
      "Epoch 14/50\n",
      "39/39 [==============================] - 0s 3ms/step - loss: 0.0069 - val_loss: 0.0073\n",
      "Epoch 15/50\n",
      "39/39 [==============================] - 0s 3ms/step - loss: 0.0072 - val_loss: 0.0068\n",
      "Epoch 16/50\n",
      "39/39 [==============================] - 0s 3ms/step - loss: 0.0068 - val_loss: 0.0062\n",
      "Epoch 17/50\n",
      "39/39 [==============================] - 0s 3ms/step - loss: 0.0068 - val_loss: 0.0061\n",
      "Epoch 18/50\n",
      "39/39 [==============================] - 0s 3ms/step - loss: 0.0068 - val_loss: 0.0066\n",
      "Epoch 19/50\n",
      "39/39 [==============================] - 0s 3ms/step - loss: 0.0069 - val_loss: 0.0060\n",
      "Epoch 20/50\n",
      "39/39 [==============================] - 0s 3ms/step - loss: 0.0068 - val_loss: 0.0064\n",
      "Epoch 21/50\n",
      "39/39 [==============================] - 0s 3ms/step - loss: 0.0068 - val_loss: 0.0067\n",
      "Epoch 22/50\n",
      "39/39 [==============================] - 0s 3ms/step - loss: 0.0068 - val_loss: 0.0060\n",
      "Epoch 23/50\n",
      "39/39 [==============================] - 0s 3ms/step - loss: 0.0068 - val_loss: 0.0066\n",
      "Epoch 24/50\n",
      "39/39 [==============================] - 0s 3ms/step - loss: 0.0068 - val_loss: 0.0070\n",
      "Epoch 25/50\n",
      "39/39 [==============================] - 0s 3ms/step - loss: 0.0068 - val_loss: 0.0060\n",
      "Epoch 26/50\n",
      "39/39 [==============================] - 0s 3ms/step - loss: 0.0068 - val_loss: 0.0062\n",
      "Epoch 27/50\n",
      "39/39 [==============================] - 0s 3ms/step - loss: 0.0068 - val_loss: 0.0059\n",
      "Epoch 28/50\n",
      "39/39 [==============================] - 0s 3ms/step - loss: 0.0068 - val_loss: 0.0061\n",
      "Epoch 29/50\n",
      "39/39 [==============================] - 0s 3ms/step - loss: 0.0073 - val_loss: 0.0061\n",
      "Epoch 30/50\n",
      "39/39 [==============================] - 0s 3ms/step - loss: 0.0069 - val_loss: 0.0060\n",
      "Epoch 31/50\n",
      "39/39 [==============================] - 0s 3ms/step - loss: 0.0068 - val_loss: 0.0060\n",
      "Epoch 32/50\n",
      "39/39 [==============================] - 0s 3ms/step - loss: 0.0067 - val_loss: 0.0072\n",
      "Epoch 33/50\n",
      "39/39 [==============================] - 0s 3ms/step - loss: 0.0070 - val_loss: 0.0060\n",
      "Epoch 34/50\n",
      "39/39 [==============================] - 0s 3ms/step - loss: 0.0068 - val_loss: 0.0060\n",
      "Epoch 35/50\n",
      "39/39 [==============================] - 0s 3ms/step - loss: 0.0069 - val_loss: 0.0061\n",
      "Epoch 36/50\n",
      "39/39 [==============================] - 0s 3ms/step - loss: 0.0068 - val_loss: 0.0063\n",
      "Epoch 37/50\n",
      "39/39 [==============================] - 0s 3ms/step - loss: 0.0067 - val_loss: 0.0068\n"
     ]
    }
   ],
   "source": [
    "# 모델 학습\n",
    "print(\"\\n============ TRAINING START ============\")\n",
    "early_stop = keras.callbacks.EarlyStopping(monitor='val_loss', patience=10)\n",
    "hist = model.fit(x_train, y_train, epochs=50, validation_data=(x_test, y_test), callbacks=[early_stop]) "
   ]
  },
  {
   "cell_type": "code",
   "execution_count": 27,
   "id": "9f1cf188",
   "metadata": {},
   "outputs": [
    {
     "data": {
      "image/png": "[encoded data removed]",
      "text/plain": [
       "<Figure size 432x288 with 1 Axes>"
      ]
     },
     "metadata": {
      "needs_background": "light"
     },
     "output_type": "display_data"
    },
    {
     "data": {
      "text/plain": [
       "<Figure size 432x288 with 0 Axes>"
      ]
     },
     "metadata": {},
     "output_type": "display_data"
    }
   ],
   "source": [
    "# 학습결과 시각화\n",
    "plt.plot(hist.history['loss'], label='loss')\n",
    "plt.plot(hist.history['val_loss'], label='val_loss')\n",
    "plt.xlabel(\"EPOCH\")\n",
    "plt.legend(loc='center right')\n",
    "plt.show()\n",
    "plt.savefig(\"train_history.png\")"
   ]
  },
  {
   "cell_type": "code",
   "execution_count": 28,
   "id": "9c0af2d8",
   "metadata": {
    "scrolled": true
   },
   "outputs": [
    {
     "data": {
      "image/png": "[encoded data removed]",
      "text/plain": [
       "<Figure size 432x288 with 1 Axes>"
      ]
     },
     "metadata": {
      "needs_background": "light"
     },
     "output_type": "display_data"
    },
    {
     "name": "stdout",
     "output_type": "stream",
     "text": [
      "20.237158\n"
     ]
    }
   ],
   "source": [
    "# 초미세먼지 예측                           \n",
    "\n",
    "def plot(data, y_predict_train, y_predict_test):\n",
    "    plt.plot(transformer.inverse_transform(data)[:, [-1]].flatten(), label='실제 초미세먼지')\n",
    "\n",
    "    y_predict_train = transformer.inverse_transform(y_predict_train)\n",
    "    y_predict_train_plot = np.empty_like(data[:, [0]])\n",
    "    y_predict_train_plot[:, :] = np.nan\n",
    "    y_predict_train_plot[sequence_length:len(y_predict_train) + sequence_length, :] = y_predict_train\n",
    "    plt.plot(y_predict_train_plot.flatten(), label='학습 데이터 예측')\n",
    "\n",
    "    y_predict_test = transformer.inverse_transform(y_predict_test)\n",
    "    y_predict_test_plot = np.empty_like(data[:, [0]])\n",
    "    y_predict_test_plot[:, :] = np.nan\n",
    "    y_predict_test_plot[len(y_predict_train) + sequence_length:, :] = y_predict_test\n",
    "    plt.plot(y_predict_test_plot.flatten(), label='테스트 데이터 예측')\n",
    "    \n",
    "    plt.legend()\n",
    "    plt.show()\n",
    "    \n",
    "y_predict_train = model.predict(x_train)\n",
    "y_predict_test = model.predict(x_test)\n",
    "plot(data, y_predict_train, y_predict_test)\n",
    "\n",
    "x_test = np.array([\n",
    "        [15, 15, 15]   #1 월 11, 12, 13일 초미세먼지 농도\n",
    "])\n",
    "x_test = x_test.reshape(-1, 1)\n",
    "x_test = transformer.transform(x_test)\n",
    "x_test = x_test.reshape(1, sequence_length)\n",
    "\n",
    "y_predict = model.predict(x_test)\n",
    "\n",
    "y_predict = transformer.inverse_transform(y_predict)\n",
    "print(y_predict[0][0])   # 1월 14일 초미세먼지 농도 예측값"
   ]
  },
  {
   "cell_type": "code",
   "execution_count": null,
   "id": "7dc5b0cc",
   "metadata": {},
   "outputs": [],
   "source": []
  },
  {
   "cell_type": "code",
   "execution_count": null,
   "id": "0f7db93a",
   "metadata": {},
   "outputs": [],
   "source": []
  }
 ],
 "metadata": {
  "kernelspec": {
   "display_name": "Python 3 (ipykernel)",
   "language": "python",
   "name": "python3"
  },
  "language_info": {
   "codemirror_mode": {
    "name": "ipython",
    "version": 3
   },
   "file_extension": ".py",
   "mimetype": "text/x-python",
   "name": "python",
   "nbconvert_exporter": "python",
   "pygments_lexer": "ipython3",
   "version": "3.8.12"
  },
  "nbTranslate": {
   "displayLangs": [
    "*"
   ],
   "hotkey": "alt-t",
   "langInMainMenu": true,
   "sourceLang": "en",
   "targetLang": "fr",
   "useGoogleTranslate": true
  },
  "toc": {
   "base_numbering": 1,
   "nav_menu": {},
   "number_sections": true,
   "sideBar": true,
   "skip_h1_title": false,
   "title_cell": "Table of Contents",
   "title_sidebar": "Contents",
   "toc_cell": false,
   "toc_position": {},
   "toc_section_display": true,
   "toc_window_display": false
  },
  "varInspector": {
   "cols": {
    "lenName": 16,
    "lenType": 16,
    "lenVar": 40
   },
   "kernels_config": {
    "python": {
     "delete_cmd_postfix": "",
     "delete_cmd_prefix": "del ",
     "library": "var_list.py",
     "varRefreshCmd": "print(var_dic_list())"
    },
    "r": {
     "delete_cmd_postfix": ") ",
     "delete_cmd_prefix": "rm(",
     "library": "var_list.r",
     "varRefreshCmd": "cat(var_dic_list()) "
    }
   },
   "types_to_exclude": [
    "module",
    "function",
    "builtin_function_or_method",
    "instance",
    "_Feature"
   ],
   "window_display": false
  }
 },
 "nbformat": 4,
 "nbformat_minor": 5
}
